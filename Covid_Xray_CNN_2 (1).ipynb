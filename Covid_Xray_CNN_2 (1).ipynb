{
  "nbformat": 4,
  "nbformat_minor": 0,
  "metadata": {
    "colab": {
      "name": "Covid_Xray_CNN_2.ipynb",
      "provenance": [],
      "collapsed_sections": []
    },
    "kernelspec": {
      "name": "python3",
      "display_name": "Python 3"
    },
    "language_info": {
      "name": "python"
    }
  },
  "cells": [
    {
      "cell_type": "code",
      "metadata": {
        "id": "r7j1YGA2Xf93"
      },
      "source": [
        "import numpy as np\n",
        "import cv2\n",
        "import os\n",
        "import matplotlib.pyplot as plt\n",
        "import random\n",
        "import pickle\n",
        "from tensorflow.keras.callbacks import TensorBoard"
      ],
      "execution_count": 1,
      "outputs": []
    },
    {
      "cell_type": "code",
      "metadata": {
        "id": "2S5vQrixXnIO"
      },
      "source": [
        "DIRECTORY=r'/content/drive/MyDrive/Covid_Xray'\n",
        "CATEGORIES=['Covid19 Negative','Covid19 Positive']"
      ],
      "execution_count": 2,
      "outputs": []
    },
    {
      "cell_type": "code",
      "metadata": {
        "id": "aM816JGEXrBB"
      },
      "source": [
        "IMG_SIZE=100;\n",
        "data=[]\n",
        "\n",
        "for category in CATEGORIES:\n",
        "    folder=os.path.join(DIRECTORY,category)\n",
        "    label=CATEGORIES.index(category)\n",
        "    for img in os.listdir(folder):\n",
        "        img_path=os.path.join(folder,img)\n",
        "        img_arr=cv2.imread(img_path)\n",
        "        try:\n",
        "           img_arr = cv2.resize(img_arr, (IMG_SIZE,IMG_SIZE))\n",
        "           #print(img.shape)\n",
        "        except:\n",
        "           break\n",
        "        #img_arr=cv2.resize(img_arr,(IMG_SIZE,IMG_SIZE))\n",
        "        data.append([img_arr,label])"
      ],
      "execution_count": 6,
      "outputs": []
    },
    {
      "cell_type": "code",
      "metadata": {
        "id": "18g7LEoIZQE1"
      },
      "source": [
        "len(data)"
      ],
      "execution_count": null,
      "outputs": []
    },
    {
      "cell_type": "code",
      "metadata": {
        "id": "gBFsoaN2X4rf"
      },
      "source": [
        "X=[]\n",
        "Y=[]\n",
        "\n",
        "for features,labels in data:\n",
        "    X.append(features)\n",
        "    Y.append(labels)"
      ],
      "execution_count": 7,
      "outputs": []
    },
    {
      "cell_type": "code",
      "metadata": {
        "id": "rLzekcfBX6yw"
      },
      "source": [
        "X=np.array(X)\n",
        "Y=np.array(Y)\n",
        "\n",
        "X=X/255"
      ],
      "execution_count": 8,
      "outputs": []
    },
    {
      "cell_type": "code",
      "metadata": {
        "colab": {
          "base_uri": "https://localhost:8080/"
        },
        "id": "kcCGenEOX9vH",
        "outputId": "734be22e-ebbd-4e1e-d777-d50637e7f9e9"
      },
      "source": [
        "X.shape\n",
        "\n",
        "print(Y)"
      ],
      "execution_count": 9,
      "outputs": [
        {
          "output_type": "stream",
          "text": [
            "[0 0 0 0 0 0 0 0 0 0 0 0 0 0 0 0 0 0 0 0 0 0 0 0 0 0 0 0 0 0 0 0 0 0 0 0 0\n",
            " 0 0 0 0 0 0 0 0 0 0 0 0 0 0 0 0 0 0 0 0 0 0 0 0 0 0 0 0 0 0 0 0 0 0 0 0 0\n",
            " 0 0 0 0 0 0 0 0 0 0 0 0 0 0 0 0 0 0 0 0 0 0 0 0 0 0 0 0 0 0 0 0 0 0 0 0 0\n",
            " 0 0 0 0 0 0 0 0 0 0 0 0 0 0 0 0 0 0 0 0 0 0 0 0 0 0 0 0 0 0 0 0 1 1 1 1 1\n",
            " 1 1 1 1 1 1 1 1 1 1 1 1 1 1 1 1 1 1 1 1 1 1 1 1 1 1 1 1 1 1 1 1 1 1 1 1 1\n",
            " 1 1 1 1 1 1 1 1 1 1 1 1 1 1 1 1 1 1 1 1 1 1 1 1 1 1 1 1 1 1 1 1 1 1 1 1 1\n",
            " 1 1 1 1 1 1 1 1 1 1 1 1 1 1 1 1 1 1 1 1 1 1 1 1 1 1 1 1 1 1 1 1 1 1 1 1 1\n",
            " 1 1 1 1 1 1 1 1 1 1 1 1 1 1 1 1 1 1 1 1 1 1 1 1 1 1 1 1 1 1 1 1 1 1 1 1 1\n",
            " 1 1 1 1 1 1 1 1 1 1 1 1 1 1 1 1 1 1 1 1 1 1 1 1 1 1 1 1 1 1 1 1 1 1 1 1 1\n",
            " 1 1 1 1 1 1 1 1 1 1 1 1 1 1 1 1 1 1 1 1 1 1 1 1 1 1 1 1 1 1 1 1 1 1 1 1 1\n",
            " 1 1 1 1 1 1 1 1 1 1 1 1 1 1 1 1 1 1 1 1 1 1 1 1 1 1 1 1 1 1 1 1 1 1 1 1 1\n",
            " 1 1 1 1 1 1 1 1 1 1 1 1 1 1 1 1 1 1 1 1 1 1 1 1 1 1 1 1 1 1 1 1 1 1 1 1 1\n",
            " 1 1 1 1 1 1 1 1 1 1 1 1 1 1 1 1 1 1 1 1 1 1 1 1 1 1 1 1 1 1 1 1 1 1 1 1 1\n",
            " 1 1 1 1 1 1 1 1 1 1 1 1 1 1 1 1 1 1 1 1 1 1 1 1 1 1 1 1 1 1 1 1 1 1 1 1 1\n",
            " 1 1 1 1 1 1 1 1 1 1 1 1 1 1 1 1 1 1 1 1 1 1 1 1 1 1 1 1 1 1 1 1 1 1 1 1 1\n",
            " 1 1 1 1 1 1 1 1 1 1 1 1 1 1 1 1 1 1 1 1 1 1 1 1 1 1 1 1 1 1 1 1 1 1 1 1 1\n",
            " 1 1 1 1 1 1 1 1 1 1 1 1 1 1 1 1 1 1 1 1 1 1 1 1 1 1 1 1 1 1 1 1 1 1 1 1 1\n",
            " 1 1 1 1 1 1 1 1 1 1 1 1 1 1 1 1 1 1 1 1 1 1 1 1 1 1 1 1 1 1 1 1 1 1 1 1 1\n",
            " 1 1 1 1 1 1 1 1 1 1 1 1 1 1 1]\n"
          ],
          "name": "stdout"
        }
      ]
    },
    {
      "cell_type": "code",
      "metadata": {
        "id": "TX0sEjdbX_tj"
      },
      "source": [
        "pickle.dump(data,open(\"dataset\",'wb'))"
      ],
      "execution_count": 10,
      "outputs": []
    },
    {
      "cell_type": "code",
      "metadata": {
        "id": "lSlsYRL2YBVy"
      },
      "source": [
        "from keras.models import Sequential\n",
        "from keras.layers import Conv2D,MaxPooling2D,Flatten,Dense"
      ],
      "execution_count": 11,
      "outputs": []
    },
    {
      "cell_type": "code",
      "metadata": {
        "id": "0Lbm167HYDVj"
      },
      "source": [
        "model=Sequential()\n",
        "\n",
        "model.add( Conv2D(64,(3,3), activation='relu' ) )\n",
        "model.add( MaxPooling2D( (2,2) ) )\n",
        "\n",
        "model.add( Conv2D(64,(3,3), activation='relu' ) )\n",
        "model.add( MaxPooling2D( (2,2) ) )\n",
        "\n",
        "model.add( Conv2D(64,(3,3), activation='relu' ) )\n",
        "model.add( MaxPooling2D( (2,2) ) )\n",
        "\n",
        "model.add( Flatten() )\n",
        "\n",
        "model.add( Dense(128,input_shape=X.shape[1:],activation='relu') )\n",
        "model.add(Dense(3,activation='softmax'))"
      ],
      "execution_count": 13,
      "outputs": []
    },
    {
      "cell_type": "code",
      "metadata": {
        "id": "LwXX2vHGYF0s"
      },
      "source": [
        "model.compile(optimizer='adam',loss='sparse_categorical_crossentropy',metrics=['accuracy'])"
      ],
      "execution_count": 14,
      "outputs": []
    },
    {
      "cell_type": "code",
      "metadata": {
        "colab": {
          "base_uri": "https://localhost:8080/"
        },
        "id": "hm3vSJdjYH0r",
        "outputId": "e16594b0-33be-4845-ef63-9018947c2ac8"
      },
      "source": [
        "model.fit(X,Y,epochs=15,validation_split=0.1)"
      ],
      "execution_count": 15,
      "outputs": [
        {
          "output_type": "stream",
          "text": [
            "Epoch 1/15\n",
            "20/20 [==============================] - 15s 703ms/step - loss: 0.7188 - accuracy: 0.6038 - val_loss: 0.4328 - val_accuracy: 1.0000\n",
            "Epoch 2/15\n",
            "20/20 [==============================] - 14s 691ms/step - loss: 0.5208 - accuracy: 0.7427 - val_loss: 0.1721 - val_accuracy: 0.9420\n",
            "Epoch 3/15\n",
            "20/20 [==============================] - 14s 691ms/step - loss: 0.3956 - accuracy: 0.8709 - val_loss: 0.2071 - val_accuracy: 0.8841\n",
            "Epoch 4/15\n",
            "20/20 [==============================] - 14s 695ms/step - loss: 0.3739 - accuracy: 0.8732 - val_loss: 0.0989 - val_accuracy: 0.9855\n",
            "Epoch 5/15\n",
            "20/20 [==============================] - 14s 690ms/step - loss: 0.3473 - accuracy: 0.8882 - val_loss: 0.2626 - val_accuracy: 0.8841\n",
            "Epoch 6/15\n",
            "20/20 [==============================] - 14s 689ms/step - loss: 0.3676 - accuracy: 0.8829 - val_loss: 0.3510 - val_accuracy: 0.8406\n",
            "Epoch 7/15\n",
            "20/20 [==============================] - 14s 689ms/step - loss: 0.3091 - accuracy: 0.8956 - val_loss: 0.1605 - val_accuracy: 0.9565\n",
            "Epoch 8/15\n",
            "20/20 [==============================] - 14s 691ms/step - loss: 0.2889 - accuracy: 0.9151 - val_loss: 0.2275 - val_accuracy: 0.9275\n",
            "Epoch 9/15\n",
            "20/20 [==============================] - 14s 688ms/step - loss: 0.3166 - accuracy: 0.8994 - val_loss: 0.1266 - val_accuracy: 0.9710\n",
            "Epoch 10/15\n",
            "20/20 [==============================] - 14s 687ms/step - loss: 0.2776 - accuracy: 0.8995 - val_loss: 0.1423 - val_accuracy: 0.9565\n",
            "Epoch 11/15\n",
            "20/20 [==============================] - 14s 685ms/step - loss: 0.2945 - accuracy: 0.8989 - val_loss: 0.0907 - val_accuracy: 0.9710\n",
            "Epoch 12/15\n",
            "20/20 [==============================] - 14s 690ms/step - loss: 0.2663 - accuracy: 0.9050 - val_loss: 0.1456 - val_accuracy: 0.9565\n",
            "Epoch 13/15\n",
            "20/20 [==============================] - 14s 696ms/step - loss: 0.2820 - accuracy: 0.9014 - val_loss: 0.0677 - val_accuracy: 0.9855\n",
            "Epoch 14/15\n",
            "20/20 [==============================] - 14s 682ms/step - loss: 0.3144 - accuracy: 0.8868 - val_loss: 0.1102 - val_accuracy: 0.9710\n",
            "Epoch 15/15\n",
            "20/20 [==============================] - 14s 683ms/step - loss: 0.3041 - accuracy: 0.8750 - val_loss: 0.0344 - val_accuracy: 1.0000\n"
          ],
          "name": "stdout"
        },
        {
          "output_type": "execute_result",
          "data": {
            "text/plain": [
              "<tensorflow.python.keras.callbacks.History at 0x7fe145f0b550>"
            ]
          },
          "metadata": {
            "tags": []
          },
          "execution_count": 15
        }
      ]
    },
    {
      "cell_type": "code",
      "metadata": {
        "colab": {
          "base_uri": "https://localhost:8080/"
        },
        "id": "e2Bk68EGYJ3h",
        "outputId": "925c595c-9b03-419f-d29d-ff43f8016d39"
      },
      "source": [
        "model.summary()"
      ],
      "execution_count": 16,
      "outputs": [
        {
          "output_type": "stream",
          "text": [
            "Model: \"sequential_1\"\n",
            "_________________________________________________________________\n",
            "Layer (type)                 Output Shape              Param #   \n",
            "=================================================================\n",
            "conv2d_3 (Conv2D)            (None, 98, 98, 64)        1792      \n",
            "_________________________________________________________________\n",
            "max_pooling2d_3 (MaxPooling2 (None, 49, 49, 64)        0         \n",
            "_________________________________________________________________\n",
            "conv2d_4 (Conv2D)            (None, 47, 47, 64)        36928     \n",
            "_________________________________________________________________\n",
            "max_pooling2d_4 (MaxPooling2 (None, 23, 23, 64)        0         \n",
            "_________________________________________________________________\n",
            "conv2d_5 (Conv2D)            (None, 21, 21, 64)        36928     \n",
            "_________________________________________________________________\n",
            "max_pooling2d_5 (MaxPooling2 (None, 10, 10, 64)        0         \n",
            "_________________________________________________________________\n",
            "flatten_1 (Flatten)          (None, 6400)              0         \n",
            "_________________________________________________________________\n",
            "dense_2 (Dense)              (None, 128)               819328    \n",
            "_________________________________________________________________\n",
            "dense_3 (Dense)              (None, 3)                 387       \n",
            "=================================================================\n",
            "Total params: 895,363\n",
            "Trainable params: 895,363\n",
            "Non-trainable params: 0\n",
            "_________________________________________________________________\n"
          ],
          "name": "stdout"
        }
      ]
    },
    {
      "cell_type": "code",
      "metadata": {
        "colab": {
          "base_uri": "https://localhost:8080/"
        },
        "id": "KO-cjpgvYMdY",
        "outputId": "33622878-69ee-4c78-99f6-a32c64ab8e34"
      },
      "source": [
        "model.save(\"my_model1\")\n",
        "#model.save(\"/content/drive/MyDrive/Models/my_model\")"
      ],
      "execution_count": 17,
      "outputs": [
        {
          "output_type": "stream",
          "text": [
            "INFO:tensorflow:Assets written to: my_model1/assets\n"
          ],
          "name": "stdout"
        }
      ]
    },
    {
      "cell_type": "code",
      "metadata": {
        "colab": {
          "base_uri": "https://localhost:8080/",
          "height": 286
        },
        "id": "YplFYUDsYUQs",
        "outputId": "e601b09e-e144-4e29-84a9-7ac939dd1909"
      },
      "source": [
        "import tensorflow as tf\n",
        "from tensorflow import keras\n",
        "from google.colab.patches import cv2_imshow\n",
        "\n",
        "#test_img = ''\n",
        "#test_img_path = tf.keras.utils.get_file('Test Image', origin=test_img)\n",
        "testimage = r'/content/drive/MyDrive/n2.jpeg'\n",
        "\n",
        "img = cv2.imread(testimage,0)\n",
        "plt.imshow(img, cmap = 'gray', interpolation = 'bicubic')\n",
        "plt.xticks([]), plt.yticks([])  # to hide tick values on X and Y axis\n",
        "plt.show()\n",
        "\n",
        "img = keras.preprocessing.image.load_img(\n",
        "    testimage, target_size=(IMG_SIZE, IMG_SIZE)\n",
        ")\n",
        "\n",
        "img_array = keras.preprocessing.image.img_to_array(img)\n",
        "img_array = tf.expand_dims(img_array, 0) # Create a batch\n",
        "\n",
        "predictions = model.predict(img_array)\n",
        "#score = tf.nn.softmax(predictions[0])\n",
        "predictions\n",
        "print(predictions)\n",
        "if(predictions[0][0]>0.8):\n",
        "    print(\"COVID-19-TEST: NEGATIVE\")\n",
        "\n",
        "if(predictions[0][1]>0.8):\n",
        "    print(\"COVID-19-TEST: POSITIVE\")"
      ],
      "execution_count": 38,
      "outputs": [
        {
          "output_type": "display_data",
          "data": {
            "image/png": "[encoded data removed]",
            "text/plain": [
              "<Figure size 432x288 with 1 Axes>"
            ]
          },
          "metadata": {
            "tags": []
          }
        },
        {
          "output_type": "stream",
          "text": [
            "[[1. 0. 0.]]\n",
            "COVID-19-TEST: NEGATIVE\n"
          ],
          "name": "stdout"
        }
      ]
    }
  ]
}